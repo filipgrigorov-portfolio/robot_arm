{
 "cells": [
  {
   "cell_type": "code",
   "execution_count": 1,
   "id": "6f4c7941-5276-467b-96f7-79d02a4d3601",
   "metadata": {},
   "outputs": [],
   "source": [
    "import numpy as np\n",
    "import time"
   ]
  },
  {
   "cell_type": "code",
   "execution_count": 2,
   "id": "a8d4b82a-4e46-4348-b9f7-8e8b9cf6f341",
   "metadata": {},
   "outputs": [
    {
     "data": {
      "text/plain": [
       "(4, 5)"
      ]
     },
     "execution_count": 2,
     "metadata": {},
     "output_type": "execute_result"
    }
   ],
   "source": [
    "mat = np.array([[1, 0, 0, 0, 2], [0, 0, 3, 0, 0], [0, 0, 0, 0, 0],[0, 2, 0, 0, 0]]).astype(np.float32)\n",
    "m, n = mat.shape\n",
    "mat.shape"
   ]
  },
  {
   "cell_type": "code",
   "execution_count": 3,
   "id": "dd321d24-20b7-4266-96b5-9f77e8b8f2c7",
   "metadata": {},
   "outputs": [],
   "source": [
    "def pinv(mat):\n",
    "    u,s,vh = np.linalg.svd(mat)\n",
    "    # s: eigenvalues and vh is the eigenvectors\n",
    "    uInv = u.T\n",
    "    sInv = np.zeros_like(mat)\n",
    "    np.fill_diagonal(sInv, np.where(s > 0, 1.0 / s, s))\n",
    "    vhInv = vh.T\n",
    "    return vhInv.dot(sInv.T.dot(uInv))"
   ]
  },
  {
   "cell_type": "code",
   "execution_count": 4,
   "id": "0aaf37df-f847-4c4e-95ae-eaba81494f5e",
   "metadata": {},
   "outputs": [
    {
     "name": "stdout",
     "output_type": "stream",
     "text": [
      "Elapsed: 27324.199676513672us\n",
      "\n",
      "Result:\n",
      "[[0.19999999 0.         0.         0.        ]\n",
      " [0.         0.         0.         0.5       ]\n",
      " [0.         0.33333334 0.         0.        ]\n",
      " [0.         0.         0.         0.        ]\n",
      " [0.39999998 0.         0.         0.        ]]\n"
     ]
    },
    {
     "name": "stderr",
     "output_type": "stream",
     "text": [
      "<ipython-input-3-73dae75b3b72>:6: RuntimeWarning: divide by zero encountered in true_divide\n",
      "  np.fill_diagonal(sInv, np.where(s > 0, 1.0 / s, s))\n"
     ]
    }
   ],
   "source": [
    "st = time.time()\n",
    "matInv = pinv(mat)\n",
    "print(f'Elapsed: {(time.time() - st) * 1e6}us')\n",
    "print(f'\\nResult:\\n{matInv}')"
   ]
  },
  {
   "cell_type": "code",
   "execution_count": 5,
   "id": "5e206ff0-375a-4d07-a966-b23d4fb59b97",
   "metadata": {},
   "outputs": [
    {
     "name": "stdout",
     "output_type": "stream",
     "text": [
      "Elapsed: 1188.2781982421875us\n",
      "\n",
      "Result:\n",
      "[[0.19999999 0.         0.         0.        ]\n",
      " [0.         0.         0.         0.5       ]\n",
      " [0.         0.33333334 0.         0.        ]\n",
      " [0.         0.         0.         0.        ]\n",
      " [0.39999998 0.         0.         0.        ]]\n"
     ]
    }
   ],
   "source": [
    "st = time.time()\n",
    "matInv_gt = np.linalg.pinv(mat)\n",
    "print(f'Elapsed: {(time.time() - st) * 1e6}us')\n",
    "print(f'\\nResult:\\n{matInv_gt}')"
   ]
  },
  {
   "cell_type": "code",
   "execution_count": null,
   "id": "836d45d3-d29d-4086-a6e1-c1866de5e43c",
   "metadata": {},
   "outputs": [],
   "source": []
  }
 ],
 "metadata": {
  "kernelspec": {
   "display_name": "Python 3",
   "language": "python",
   "name": "python3"
  },
  "language_info": {
   "codemirror_mode": {
    "name": "ipython",
    "version": 3
   },
   "file_extension": ".py",
   "mimetype": "text/x-python",
   "name": "python",
   "nbconvert_exporter": "python",
   "pygments_lexer": "ipython3",
   "version": "3.9.7"
  }
 },
 "nbformat": 4,
 "nbformat_minor": 5
}
