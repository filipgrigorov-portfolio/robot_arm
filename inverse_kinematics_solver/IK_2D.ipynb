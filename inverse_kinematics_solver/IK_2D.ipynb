{
 "cells": [
  {
   "cell_type": "code",
   "execution_count": 1,
   "id": "42204281",
   "metadata": {},
   "outputs": [],
   "source": [
    "import matplotlib.pyplot as plt\n",
    "import numpy as np\n",
    "\n",
    "from matplotlib.animation import FuncAnimation\n",
    "\n",
    "%matplotlib inline"
   ]
  },
  {
   "cell_type": "code",
   "execution_count": 2,
   "id": "54148510",
   "metadata": {},
   "outputs": [],
   "source": [
    "from fabrik import fabrik_solve\n",
    "from newton_method import NewtonSolver\n",
    "from utils import compute_theta, rad2degrees, degrees2rad\n",
    "\n",
    "class IK:\n",
    "    @staticmethod\n",
    "    def solve(target, trajectory, jnts, links, algo='fabrik'):\n",
    "        if algo == 'fabrik':\n",
    "            return fabrik_solve(target, trajectory, jnts, links)\n",
    "        if algo == 'root_finding':\n",
    "            return NewtonSolver(jnts, links).solve(target, trajectory, jnts, links)"
   ]
  },
  {
   "cell_type": "code",
   "execution_count": 3,
   "id": "8701f5a5",
   "metadata": {},
   "outputs": [
    {
     "name": "stdout",
     "output_type": "stream",
     "text": [
      "The robot arm is within reach\n",
      "dist= 0.0011065106945241392\n",
      "Trajectory size: (4, 4, 2)\n",
      "[[ 1.  1.]\n",
      " [ 1.  4.]\n",
      " [ 1.  7.]\n",
      " [ 1. 10.]]\n",
      "[[1.        1.       ]\n",
      " [0.6583143 3.9804783]\n",
      " [2.1440015 6.586766 ]\n",
      " [3.8928964 4.149274 ]]\n",
      "[[1.        1.       ]\n",
      " [0.6120888 3.9748151]\n",
      " [2.2742457 6.472261 ]\n",
      " [3.991407  4.01231  ]]\n",
      "[[1.         1.        ]\n",
      " [0.60851157 3.9743466 ]\n",
      " [2.2845533  6.4624953 ]\n",
      " [3.9993675  4.000908  ]]\n",
      "\n",
      "Angles: (3, 3)\n",
      "[   6.53990613  -29.68485591 -144.34064945]\n",
      "[ 0.88944772 -3.96060813 -0.74250303]\n",
      "[ 0.06890295 -0.31913717 -0.05464493]\n"
     ]
    },
    {
     "name": "stderr",
     "output_type": "stream",
     "text": [
      "<ipython-input-3-11a7c6661ae6>:57: UserWarning: Matplotlib is currently using module://matplotlib_inline.backend_inline, which is a non-GUI backend, so cannot show the figure.\n",
      "  fig.show()\n"
     ]
    },
    {
     "data": {
      "image/png": "[encoded data removed]",
      "text/plain": [
       "<Figure size 720x720 with 1 Axes>"
      ]
     },
     "metadata": {
      "needs_background": "light"
     },
     "output_type": "display_data"
    }
   ],
   "source": [
    "# 2D robotic link (3 links)\n",
    "'''\n",
    "    /|--*--*--*\n",
    "'''\n",
    "# robot arm topology\n",
    "links = np.array([3, 3, 3]).astype(np.float32)\n",
    "jnts = np.array([[1, 1], [1, 4], [1, 7], [1, 10]]).astype(np.float32)\n",
    "thetas = deegres2rad(np.array([90.0, 90.0, 90.0]))\n",
    "\n",
    "\n",
    "fig = plt.figure(figsize=(10, 10))\n",
    "\n",
    "plt.grid()\n",
    "max_x = 15\n",
    "max_y = 15\n",
    "plt.xlim(0, max_x)\n",
    "plt.ylim(0, max_y)\n",
    "xdim = np.arange(0, max_x, 1)\n",
    "ydim = np.arange(0, max_y, 1)\n",
    "plt.xticks(xdim)\n",
    "plt.yticks(ydim)\n",
    "\n",
    "# Move the robot arm and solve IK\n",
    "# (x, y)\n",
    "trajectory = [ np.copy(jnts) ]\n",
    "target = np.array([4, 4])\n",
    "plt.scatter(target[0], target[1], marker='X', c='r')\n",
    "trajectory = IK.solve(target, trajectory, jnts, links)\n",
    "print(f'\\nTrajectory size: {trajectory.shape}')\n",
    "\n",
    "for jnts in trajectory:\n",
    "    print(jnts)\n",
    "    color = [*np.random.random(3), 0.3]\n",
    "    for idx in range(len(jnts)):\n",
    "        plt.text(jnts[idx][0], jnts[idx][1], str(idx), fontsize=12)\n",
    "    plt.plot(jnts[:, 0], jnts[:, 1], marker='o', linestyle='--', color=color)\n",
    "\n",
    "# forward kinematics\n",
    "angles = []\n",
    "for idx in range(trajectory.shape[0]):\n",
    "    theta0 = rad2degrees(compute_theta(trajectory[idx][1], trajectory[idx][0]))\n",
    "    theta1 = rad2degrees(compute_theta(trajectory[idx][2], trajectory[idx][1]))\n",
    "    theta2 = rad2degrees(compute_theta(trajectory[idx][3], trajectory[idx][2]))\n",
    "    angles.append([theta0, theta1, theta2])\n",
    "\n",
    "angles = np.array(angles)\n",
    "    \n",
    "deltas = []\n",
    "for idx in range(1, len(angles)):\n",
    "    deltas.append(angles[idx] - angles[idx - 1])\n",
    "    \n",
    "deltas = np.array(deltas)\n",
    "\n",
    "print(f'\\nAngles: {deltas.shape}')\n",
    "for idx in range(deltas.shape[0]):\n",
    "    print(deltas[idx])\n",
    "\n",
    "fig.show()"
   ]
  },
  {
   "cell_type": "code",
   "execution_count": null,
   "id": "94263ea3",
   "metadata": {},
   "outputs": [],
   "source": []
  },
  {
   "cell_type": "code",
   "execution_count": null,
   "id": "67c49c0f",
   "metadata": {},
   "outputs": [],
   "source": []
  }
 ],
 "metadata": {
  "kernelspec": {
   "display_name": "Python 3",
   "language": "python",
   "name": "python3"
  },
  "language_info": {
   "codemirror_mode": {
    "name": "ipython",
    "version": 3
   },
   "file_extension": ".py",
   "mimetype": "text/x-python",
   "name": "python",
   "nbconvert_exporter": "python",
   "pygments_lexer": "ipython3",
   "version": "3.9.7"
  }
 },
 "nbformat": 4,
 "nbformat_minor": 5
}
